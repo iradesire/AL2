{
 "cells": [
  {
   "cell_type": "code",
   "execution_count": 1,
   "id": "8d5d5f72-89f0-411f-bb07-03769005719b",
   "metadata": {},
   "outputs": [],
   "source": [
    "from helper import print_llm_response"
   ]
  },
  {
   "cell_type": "code",
   "execution_count": 2,
   "id": "e39d4fe9-c58f-4968-846a-7fb575c9571c",
   "metadata": {},
   "outputs": [
    {
     "name": "stdout",
     "output_type": "stream",
     "text": [
      "Requirement already satisfied: zhipuai in c:\\users\\student.desk-17\\appdata\\local\\programs\\python\\python313\\lib\\site-packages (2.1.5.20250106)\n",
      "Requirement already satisfied: cachetools>=4.2.2 in c:\\users\\student.desk-17\\appdata\\local\\programs\\python\\python313\\lib\\site-packages (from zhipuai) (5.5.2)\n",
      "Requirement already satisfied: httpx>=0.23.0 in c:\\users\\student.desk-17\\appdata\\local\\programs\\python\\python313\\lib\\site-packages (from zhipuai) (0.28.1)\n",
      "Requirement already satisfied: pydantic<3.0,>=1.9.0 in c:\\users\\student.desk-17\\appdata\\local\\programs\\python\\python313\\lib\\site-packages (from zhipuai) (2.10.6)\n",
      "Requirement already satisfied: pydantic-core>=2.14.6 in c:\\users\\student.desk-17\\appdata\\local\\programs\\python\\python313\\lib\\site-packages (from zhipuai) (2.27.2)\n",
      "Requirement already satisfied: pyjwt<2.9.0,>=2.8.0 in c:\\users\\student.desk-17\\appdata\\local\\programs\\python\\python313\\lib\\site-packages (from zhipuai) (2.8.0)\n",
      "Requirement already satisfied: anyio in c:\\users\\student.desk-17\\appdata\\local\\programs\\python\\python313\\lib\\site-packages (from httpx>=0.23.0->zhipuai) (4.8.0)\n",
      "Requirement already satisfied: certifi in c:\\users\\student.desk-17\\appdata\\local\\programs\\python\\python313\\lib\\site-packages (from httpx>=0.23.0->zhipuai) (2025.1.31)\n",
      "Requirement already satisfied: httpcore==1.* in c:\\users\\student.desk-17\\appdata\\local\\programs\\python\\python313\\lib\\site-packages (from httpx>=0.23.0->zhipuai) (1.0.7)\n",
      "Requirement already satisfied: idna in c:\\users\\student.desk-17\\appdata\\local\\programs\\python\\python313\\lib\\site-packages (from httpx>=0.23.0->zhipuai) (3.10)\n",
      "Requirement already satisfied: h11<0.15,>=0.13 in c:\\users\\student.desk-17\\appdata\\local\\programs\\python\\python313\\lib\\site-packages (from httpcore==1.*->httpx>=0.23.0->zhipuai) (0.14.0)\n",
      "Requirement already satisfied: annotated-types>=0.6.0 in c:\\users\\student.desk-17\\appdata\\local\\programs\\python\\python313\\lib\\site-packages (from pydantic<3.0,>=1.9.0->zhipuai) (0.7.0)\n",
      "Requirement already satisfied: typing-extensions>=4.12.2 in c:\\users\\student.desk-17\\appdata\\local\\programs\\python\\python313\\lib\\site-packages (from pydantic<3.0,>=1.9.0->zhipuai) (4.12.2)\n",
      "Requirement already satisfied: sniffio>=1.1 in c:\\users\\student.desk-17\\appdata\\local\\programs\\python\\python313\\lib\\site-packages (from anyio->httpx>=0.23.0->zhipuai) (1.3.1)\n"
     ]
    }
   ],
   "source": [
    "!pip install zhipuai"
   ]
  },
  {
   "cell_type": "code",
   "execution_count": 7,
   "id": "cbe2e434-00fc-4f62-a000-28ad7e6a28ee",
   "metadata": {},
   "outputs": [
    {
     "name": "stdout",
     "output_type": "stream",
     "text": [
      "____________________________________________________________________________________________________\n",
      "Happy Birthday, Ogistal! May your year be as bright and full of joy as the first letter of your name, 'O', symbolizes infinity and endless possibilities. 🎉🎂\n",
      "____________________________________________________________________________________________________\n",
      "\n",
      "\n"
     ]
    }
   ],
   "source": [
    "prompt=\"craf a birthday message to my friend ogistal ,the insired with the frist letter of his name\"\n",
    "print_llm_response(prompt)"
   ]
  },
  {
   "cell_type": "code",
   "execution_count": null,
   "id": "7a032d4c-c34d-49fe-8395-c9e185743a6d",
   "metadata": {},
   "outputs": [],
   "source": [
    "message=input(\"type any message\")\n",
    "print_llm_response(message)"
   ]
  },
  {
   "cell_type": "code",
   "execution_count": 5,
   "id": "30494e15-83dd-4f43-bc1a-b800d975f423",
   "metadata": {},
   "outputs": [
    {
     "name": "stdout",
     "output_type": "stream",
     "text": [
      "____________________________________________________________________________________________________\n",
      "**Ira**\n",
      "In realms of dreams, your laughter glows,\n",
      "A radiant sun in the night's embrace.\n",
      "\n",
      "**Monday**\n",
      "With Monday's dawn, your spirit soars,\n",
      "A beacon of hope in the week's embrace.\n",
      "\n",
      "**Chisomo**\n",
      "In whispers of moonlight, your spirit sings,\n",
      "A melody of life, pure and bright.\n",
      "\n",
      "**Kete**\n",
      "Beneath the sky, your wisdom gleams,\n",
      "A guiding star in the night's serene.\n",
      "\n",
      "**Moyo**\n",
      "In the heart of every tale, your name,\n",
      "A heartbeat that resonates, pure and true.\n",
      "____________________________________________________________________________________________________\n",
      "\n",
      "\n"
     ]
    }
   ],
   "source": [
    "#crafing poems to our friends\n",
    "#name are in a list \n",
    "friend_list = [\"ira\",\"Monday\",\"chisomo\",\"kete\",\"Moyo\"]\n",
    "prompt = f\"\"\"\n",
    "craf  poems for eash of my friends,{friend_list} the messages should be insired with the fist letter of each name\n",
    "\"\"\"\n",
    "print_llm_response(prompt)"
   ]
  },
  {
   "cell_type": "code",
   "execution_count": 6,
   "id": "a47cb342-63ab-4dc9-ad24-49c605691f77",
   "metadata": {},
   "outputs": [
    {
     "name": "stdout",
     "output_type": "stream",
     "text": [
      "____________________________________________________________________________________________________\n",
      "In Manzi's shadow, I find my stride,\n",
      "A beacon bright, a guiding tide.\n",
      "His spirit fierce, a force to see,\n",
      "In every challenge, he leads me.\n",
      "\n",
      "With laughter loud, his heart so true,\n",
      "He's carved my path, with every view.\n",
      "Manzi, you inspire, you inspire,\n",
      "In every step, I follow thine.\n",
      "____________________________________________________________________________________________________\n",
      "\n",
      "\n"
     ]
    }
   ],
   "source": [
    "prompt = \"crat a poem to my brother Manzi about how he has insired me\"\n",
    "print_llm_response(prompt)"
   ]
  },
  {
   "cell_type": "code",
   "execution_count": null,
   "id": "989bb4ea-bfc7-4afa-872b-991ef9754a87",
   "metadata": {},
   "outputs": [],
   "source": []
  }
 ],
 "metadata": {
  "kernelspec": {
   "display_name": "Python 3 (ipykernel)",
   "language": "python",
   "name": "python3"
  },
  "language_info": {
   "codemirror_mode": {
    "name": "ipython",
    "version": 3
   },
   "file_extension": ".py",
   "mimetype": "text/x-python",
   "name": "python",
   "nbconvert_exporter": "python",
   "pygments_lexer": "ipython3",
   "version": "3.13.2"
  }
 },
 "nbformat": 4,
 "nbformat_minor": 5
}
