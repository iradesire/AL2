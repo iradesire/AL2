{
 "cells": [
  {
   "cell_type": "code",
   "execution_count": 23,
   "id": "10dd2ea1-7154-4c1b-8e25-2a4fe7d967f1",
   "metadata": {},
   "outputs": [
    {
     "name": "stdout",
     "output_type": "stream",
     "text": [
      "True\n",
      "True\n"
     ]
    }
   ],
   "source": [
    "#library Management system \n",
    "class Madia:\n",
    "    def __init__(self,title):\n",
    "        self.title=title\n",
    "        self.available=True\n",
    "    def cheak_out(self):\n",
    "        if self.available:\n",
    "            print(\" True\")\n",
    "        else:\n",
    "            print(\"False\")\n",
    "        \n",
    "class Book(Madia):\n",
    "    def __init__(self,title,author):\n",
    "        super().__init__(title)\n",
    "        self.author=author\n",
    "        self.due_date=\"2,may,2025\"\n",
    "    def cheak_out(self):\n",
    "          if self.available:\n",
    "              print(\"True\")\n",
    "          else:\n",
    "              print(\"False\")\n",
    "                \n",
    "class Magazine(Madia):\n",
    "    def __init__(self,issue_number,title):\n",
    "        super().__init__(title)\n",
    "        self.issue_number=issue_number\n",
    "    def cheak_out(self):\n",
    "        super().cheak_out()\n",
    "        \n",
    "library=Book(\"1984\",\"George orwell\")\n",
    "library.cheak_out()\n",
    "\n",
    "library2=Magazine(123,\"Time\")\n",
    "library2.cheak_out()"
   ]
  },
  {
   "cell_type": "code",
   "execution_count": null,
   "id": "fdb92069-9b5c-4b0f-b49f-608a4b1cb4ad",
   "metadata": {},
   "outputs": [],
   "source": []
  },
  {
   "cell_type": "code",
   "execution_count": null,
   "id": "b4b18b96-5afc-4a7e-a10a-48ea1521fe15",
   "metadata": {},
   "outputs": [],
   "source": []
  }
 ],
 "metadata": {
  "kernelspec": {
   "display_name": "Python 3 (ipykernel)",
   "language": "python",
   "name": "python3"
  },
  "language_info": {
   "codemirror_mode": {
    "name": "ipython",
    "version": 3
   },
   "file_extension": ".py",
   "mimetype": "text/x-python",
   "name": "python",
   "nbconvert_exporter": "python",
   "pygments_lexer": "ipython3",
   "version": "3.13.2"
  }
 },
 "nbformat": 4,
 "nbformat_minor": 5
}
