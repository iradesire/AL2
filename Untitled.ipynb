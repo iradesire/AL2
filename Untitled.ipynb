{
 "cells": [
  {
   "cell_type": "code",
   "execution_count": null,
   "id": "3acb48b5-0741-4667-afc3-a9faa5b4d015",
   "metadata": {},
   "outputs": [],
   "source": [
    "#text file"
   ]
  },
  {
   "cell_type": "code",
   "execution_count": 1,
   "id": "e8e05ad7-6207-4b42-9231-1a59e326ca2d",
   "metadata": {},
   "outputs": [],
   "source": [
    "with open(\"greeeting.txt\",\"w\") as file:\n",
    "    file.write(\"hello world\")\n",
    "    \n",
    "    "
   ]
  },
  {
   "cell_type": "code",
   "execution_count": 4,
   "id": "7861a380-88a4-48b1-b17b-8351e5cb2a1f",
   "metadata": {},
   "outputs": [
    {
     "name": "stdout",
     "output_type": "stream",
     "text": [
      "5\n"
     ]
    }
   ],
   "source": [
    "with open(\"quote.txt\",\"r\") as file:\n",
    "    line=file.readlines()\n",
    "    print(len(line))"
   ]
  },
  {
   "cell_type": "code",
   "execution_count": 8,
   "id": "ad5dad94-ccee-4edc-bd27-a3120540297f",
   "metadata": {},
   "outputs": [
    {
     "name": "stdin",
     "output_type": "stream",
     "text": [
      "type in the new item:  piza\n"
     ]
    },
    {
     "name": "stdout",
     "output_type": "stream",
     "text": [
      "added succesfully\n"
     ]
    }
   ],
   "source": [
    "#this can also be done appned \n",
    "#with open(\"shopping list\",\"a\") as file:\n",
    "#file.write(\"my name is\")      #the appned function does not overwrite be it adds the message at the end of the old messages\n",
    "\n",
    "with open(\"shopping list\",\"w\") as file:\n",
    "    new_item=input(\"type in the new item: \")\n",
    "    file.write(new_item)\n",
    "    print(\"added succesfully\")"
   ]
  },
  {
   "cell_type": "code",
   "execution_count": 15,
   "id": "eac31851-65d4-4d20-aae9-4144b6b42d7c",
   "metadata": {},
   "outputs": [
    {
     "name": "stdout",
     "output_type": "stream",
     "text": [
      "i am learning python\n",
      "\n"
     ]
    }
   ],
   "source": [
    "with open(\"source.txt\",\"r\") as file:\n",
    "    line=file.readline()\n",
    "    print(line)\n",
    "with open(\"destination.txt\",\"w\") as file:\n",
    "    file.write(line)\n",
    "# with open(\"source.txt\",\"w\") as file:\n",
    "    #source file.write(\"something\")\n",
    "#with open(\"destination.txt\",\"w\") as file:\n",
    "    #file.write(line)\n",
    "    "
   ]
  },
  {
   "cell_type": "code",
   "execution_count": null,
   "id": "f8266f66-dbd3-4d1b-9ee0-0adca7c38651",
   "metadata": {},
   "outputs": [],
   "source": [
    "#reading and write (r+w)\n",
    "#execl\n",
    "#image\n",
    "#.csv\n"
   ]
  },
  {
   "cell_type": "code",
   "execution_count": null,
   "id": "68ab134e-137f-425f-8229-06db147d9479",
   "metadata": {},
   "outputs": [],
   "source": [
    "# jeson file"
   ]
  },
  {
   "cell_type": "code",
   "execution_count": 9,
   "id": "d11de801-0860-4b04-bdb7-27250bef9631",
   "metadata": {},
   "outputs": [
    {
     "ename": "UnsupportedOperation",
     "evalue": "not readable",
     "output_type": "error",
     "traceback": [
      "\u001b[1;31m---------------------------------------------------------------------------\u001b[0m",
      "\u001b[1;31mUnsupportedOperation\u001b[0m                      Traceback (most recent call last)",
      "Cell \u001b[1;32mIn[9], line 4\u001b[0m\n\u001b[0;32m      2\u001b[0m \u001b[38;5;28;01mimport\u001b[39;00m\u001b[38;5;250m \u001b[39m\u001b[38;5;21;01mjson\u001b[39;00m\n\u001b[0;32m      3\u001b[0m \u001b[38;5;28;01mwith\u001b[39;00m \u001b[38;5;28mopen\u001b[39m(\u001b[38;5;124m\"\u001b[39m\u001b[38;5;124mquotes.json\u001b[39m\u001b[38;5;124m\"\u001b[39m,\u001b[38;5;124m\"\u001b[39m\u001b[38;5;124mw\u001b[39m\u001b[38;5;124m\"\u001b[39m) \u001b[38;5;28;01mas\u001b[39;00m jsonfile:\n\u001b[1;32m----> 4\u001b[0m     date \u001b[38;5;241m=\u001b[39m \u001b[43mjson\u001b[49m\u001b[38;5;241;43m.\u001b[39;49m\u001b[43mload\u001b[49m\u001b[43m(\u001b[49m\u001b[43mjsonfile\u001b[49m\u001b[43m)\u001b[49m\n\u001b[0;32m      5\u001b[0m \u001b[38;5;28mprint\u001b[39m(\u001b[38;5;28mlen\u001b[39m(date))\n",
      "File \u001b[1;32m~\\AppData\\Local\\Programs\\Python\\Python313\\Lib\\json\\__init__.py:293\u001b[0m, in \u001b[0;36mload\u001b[1;34m(fp, cls, object_hook, parse_float, parse_int, parse_constant, object_pairs_hook, **kw)\u001b[0m\n\u001b[0;32m    274\u001b[0m \u001b[38;5;28;01mdef\u001b[39;00m\u001b[38;5;250m \u001b[39m\u001b[38;5;21mload\u001b[39m(fp, \u001b[38;5;241m*\u001b[39m, \u001b[38;5;28mcls\u001b[39m\u001b[38;5;241m=\u001b[39m\u001b[38;5;28;01mNone\u001b[39;00m, object_hook\u001b[38;5;241m=\u001b[39m\u001b[38;5;28;01mNone\u001b[39;00m, parse_float\u001b[38;5;241m=\u001b[39m\u001b[38;5;28;01mNone\u001b[39;00m,\n\u001b[0;32m    275\u001b[0m         parse_int\u001b[38;5;241m=\u001b[39m\u001b[38;5;28;01mNone\u001b[39;00m, parse_constant\u001b[38;5;241m=\u001b[39m\u001b[38;5;28;01mNone\u001b[39;00m, object_pairs_hook\u001b[38;5;241m=\u001b[39m\u001b[38;5;28;01mNone\u001b[39;00m, \u001b[38;5;241m*\u001b[39m\u001b[38;5;241m*\u001b[39mkw):\n\u001b[0;32m    276\u001b[0m \u001b[38;5;250m    \u001b[39m\u001b[38;5;124;03m\"\"\"Deserialize ``fp`` (a ``.read()``-supporting file-like object containing\u001b[39;00m\n\u001b[0;32m    277\u001b[0m \u001b[38;5;124;03m    a JSON document) to a Python object.\u001b[39;00m\n\u001b[0;32m    278\u001b[0m \n\u001b[1;32m   (...)\u001b[0m\n\u001b[0;32m    291\u001b[0m \u001b[38;5;124;03m    kwarg; otherwise ``JSONDecoder`` is used.\u001b[39;00m\n\u001b[0;32m    292\u001b[0m \u001b[38;5;124;03m    \"\"\"\u001b[39;00m\n\u001b[1;32m--> 293\u001b[0m     \u001b[38;5;28;01mreturn\u001b[39;00m loads(\u001b[43mfp\u001b[49m\u001b[38;5;241;43m.\u001b[39;49m\u001b[43mread\u001b[49m\u001b[43m(\u001b[49m\u001b[43m)\u001b[49m,\n\u001b[0;32m    294\u001b[0m         \u001b[38;5;28mcls\u001b[39m\u001b[38;5;241m=\u001b[39m\u001b[38;5;28mcls\u001b[39m, object_hook\u001b[38;5;241m=\u001b[39mobject_hook,\n\u001b[0;32m    295\u001b[0m         parse_float\u001b[38;5;241m=\u001b[39mparse_float, parse_int\u001b[38;5;241m=\u001b[39mparse_int,\n\u001b[0;32m    296\u001b[0m         parse_constant\u001b[38;5;241m=\u001b[39mparse_constant, object_pairs_hook\u001b[38;5;241m=\u001b[39mobject_pairs_hook, \u001b[38;5;241m*\u001b[39m\u001b[38;5;241m*\u001b[39mkw)\n",
      "\u001b[1;31mUnsupportedOperation\u001b[0m: not readable"
     ]
    }
   ],
   "source": [
    "#2\n",
    "import json\n",
    "with open(\"quotes.json\",\"r\") as jsonfile:\n",
    "    date = json.load(jsonfile)\n",
    "print(len(date))"
   ]
  },
  {
   "cell_type": "code",
   "execution_count": 22,
   "id": "13891d73-0247-42c5-a4e7-bff2f3ef2ed0",
   "metadata": {},
   "outputs": [
    {
     "name": "stdin",
     "output_type": "stream",
     "text": [
      "type the new item:  cake\n"
     ]
    },
    {
     "name": "stdout",
     "output_type": "stream",
     "text": [
      "add complited\n"
     ]
    }
   ],
   "source": [
    "import json\n",
    "shopping=[\"apples\",\"bread\",\"milk\"]\n",
    "with open(\"shoppings_list.json\",\"w\")as file:\n",
    "    json.dump(shopping,file)\n",
    "new_item=input(\"type the new item: \")\n",
    "with open(\"shoppings_list.json\",\"a\") as file:\n",
    "    json.dump(shopping,file)\n",
    "    print(\"add complited\")\n",
    "    "
   ]
  },
  {
   "cell_type": "code",
   "execution_count": null,
   "id": "d1bce006-f4fc-4637-a5f8-0e9277b103e0",
   "metadata": {},
   "outputs": [],
   "source": []
  }
 ],
 "metadata": {
  "kernelspec": {
   "display_name": "Python 3 (ipykernel)",
   "language": "python",
   "name": "python3"
  },
  "language_info": {
   "codemirror_mode": {
    "name": "ipython",
    "version": 3
   },
   "file_extension": ".py",
   "mimetype": "text/x-python",
   "name": "python",
   "nbconvert_exporter": "python",
   "pygments_lexer": "ipython3",
   "version": "3.13.2"
  }
 },
 "nbformat": 4,
 "nbformat_minor": 5
}
