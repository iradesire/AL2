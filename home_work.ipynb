{
 "cells": [
  {
   "cell_type": "code",
   "execution_count": 1,
   "id": "f4e974e8-82e3-4c36-b3a1-9dcd9a05fcf7",
   "metadata": {},
   "outputs": [
    {
     "ename": "TypeError",
     "evalue": "can't multiply sequence by non-int of type 'float'",
     "output_type": "error",
     "traceback": [
      "\u001b[1;31m---------------------------------------------------------------------------\u001b[0m",
      "\u001b[1;31mTypeError\u001b[0m                                 Traceback (most recent call last)",
      "Cell \u001b[1;32mIn[1], line 34\u001b[0m\n\u001b[0;32m     31\u001b[0m         \u001b[38;5;28msuper\u001b[39m()\u001b[38;5;241m.\u001b[39mapply_discount()\n\u001b[0;32m     33\u001b[0m stoll\u001b[38;5;241m=\u001b[39mClothing(\u001b[38;5;124m\"\u001b[39m\u001b[38;5;124mT.Shirt\u001b[39m\u001b[38;5;124m\"\u001b[39m,\u001b[38;5;241m20\u001b[39m,\u001b[38;5;124m\"\u001b[39m\u001b[38;5;124mL\u001b[39m\u001b[38;5;124m\"\u001b[39m)\n\u001b[1;32m---> 34\u001b[0m \u001b[43mstoll\u001b[49m\u001b[38;5;241;43m.\u001b[39;49m\u001b[43mapply_discount\u001b[49m\u001b[43m(\u001b[49m\u001b[43m)\u001b[49m\n\u001b[0;32m     35\u001b[0m stoll2\u001b[38;5;241m=\u001b[39mElectronics(\u001b[38;5;124m\"\u001b[39m\u001b[38;5;124mLaptop\u001b[39m\u001b[38;5;124m\"\u001b[39m,\u001b[38;5;241m1000\u001b[39m,\u001b[38;5;124m\"\u001b[39m\u001b[38;5;124m1 year\u001b[39m\u001b[38;5;124m\"\u001b[39m)\n\u001b[0;32m     36\u001b[0m stoll2\u001b[38;5;241m.\u001b[39mapply_discount()\n",
      "Cell \u001b[1;32mIn[1], line 17\u001b[0m, in \u001b[0;36mClothing.apply_discount\u001b[1;34m(self)\u001b[0m\n\u001b[0;32m     16\u001b[0m \u001b[38;5;28;01mdef\u001b[39;00m\u001b[38;5;250m \u001b[39m\u001b[38;5;21mapply_discount\u001b[39m(\u001b[38;5;28mself\u001b[39m):\n\u001b[1;32m---> 17\u001b[0m     discount\u001b[38;5;241m=\u001b[39m\u001b[38;5;28;43mself\u001b[39;49m\u001b[38;5;241;43m.\u001b[39;49m\u001b[43mdiscount\u001b[49m\u001b[38;5;241;43m/\u001b[39;49m\u001b[38;5;241;43m100\u001b[39;49m\u001b[38;5;241;43m*\u001b[39;49m\u001b[38;5;28;43mself\u001b[39;49m\u001b[38;5;241;43m.\u001b[39;49m\u001b[43mprice\u001b[49m\n\u001b[0;32m     18\u001b[0m     \u001b[38;5;28mprint\u001b[39m(\u001b[38;5;124mf\u001b[39m\u001b[38;5;124m\"\u001b[39m\u001b[38;5;124mthis is your discount MWK \u001b[39m\u001b[38;5;132;01m{\u001b[39;00mdiscount\u001b[38;5;132;01m}\u001b[39;00m\u001b[38;5;124m\"\u001b[39m)\n",
      "\u001b[1;31mTypeError\u001b[0m: can't multiply sequence by non-int of type 'float'"
     ]
    }
   ],
   "source": [
    "# home work \n",
    "class Product:\n",
    "    def __init__(self,name,price):\n",
    "        self.name=name\n",
    "        self.price=price\n",
    "        self.stock=100\n",
    "        self.discount=10\n",
    "    def apply_discount(self):\n",
    "        discount=self.discount//100*self.price\n",
    "        print(f\"Thank you for your purchase your discount is MWk{discount}\")\n",
    "class Clothing(Product):\n",
    "    def __init__(self,name,price,size):\n",
    "        super().__init__(name,size)\n",
    "        self.size=size\n",
    "        self.discount=20\n",
    "    def apply_discount(self):\n",
    "        discount=self.discount/100*self.price\n",
    "        print(f\"this is your discount MWK {discount}\")\n",
    "        \n",
    "class Electronics(Product):\n",
    "    def __init__(self,name,price,warranty):\n",
    "        super().__init__(name,price)\n",
    "        self.warranty=warranty\n",
    "    def apply_discount(self):\n",
    "        super().apply_discount()\n",
    "class Book(Product):\n",
    "    def __init__(self,price,name,genre):\n",
    "        super().__init__(name,price)\n",
    "        self.genre=genre\n",
    "    def apply_discount(self):\n",
    "        super().apply_discount()\n",
    "        \n",
    "stoll=Clothing(\"T.Shirt\",20,\"L\")\n",
    "stoll.apply_discount()\n",
    "stoll2=Electronics(\"Laptop\",1000,\"1 year\")\n",
    "stoll2.apply_discount()\n",
    "stoll3=Book(\"Python crash course\",30,\"genre\")\n",
    "stoll3.apply_discount()"
   ]
  },
  {
   "cell_type": "code",
   "execution_count": null,
   "id": "1472f4aa-5bfd-4d7f-849a-5844b77f1b0c",
   "metadata": {},
   "outputs": [],
   "source": []
  },
  {
   "cell_type": "code",
   "execution_count": null,
   "id": "b3f57ec0-4827-4a28-a563-77358f86597b",
   "metadata": {},
   "outputs": [],
   "source": []
  }
 ],
 "metadata": {
  "kernelspec": {
   "display_name": "Python 3 (ipykernel)",
   "language": "python",
   "name": "python3"
  },
  "language_info": {
   "codemirror_mode": {
    "name": "ipython",
    "version": 3
   },
   "file_extension": ".py",
   "mimetype": "text/x-python",
   "name": "python",
   "nbconvert_exporter": "python",
   "pygments_lexer": "ipython3",
   "version": "3.13.1"
  }
 },
 "nbformat": 4,
 "nbformat_minor": 5
}
